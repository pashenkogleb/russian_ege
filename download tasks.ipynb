{
 "cells": [
  {
   "cell_type": "code",
   "execution_count": 332,
   "metadata": {},
   "outputs": [],
   "source": [
    "import requests\n",
    "import json\n",
    "from bs4 import BeautifulSoup\n",
    "import re\n",
    "from pandas import Timestamp as TS\n",
    "import numpy as np"
   ]
  },
  {
   "cell_type": "markdown",
   "metadata": {},
   "source": [
    "# download database of tasks"
   ]
  },
  {
   "cell_type": "code",
   "execution_count": 99,
   "metadata": {},
   "outputs": [],
   "source": [
    "s = requests.Session()"
   ]
  },
  {
   "cell_type": "code",
   "execution_count": 343,
   "metadata": {},
   "outputs": [],
   "source": [
    "def send_request(session, pageNumber, pageSize=10, numRetries =5):\n",
    "    '''\n",
    "    Each page has pageSize tasks\n",
    "    '''\n",
    "\n",
    "    headers = {\n",
    "        #\"Accept\": \"application/json, text/plain, */*\",\n",
    "        #\"Accept-Encoding\":  \"gzip, deflate\",\n",
    "        #\"Accept-Language\":  \"en-US,en;q=0.9\",\n",
    "        #\"Connection\":\"keep-alive\",\n",
    "        \"Content-Type\" : \"application/json;charset=UTF-8\",\n",
    "        #\"Cookie\": \"__ddg1=o6KApivyOlKgboqolkZG; sessionId=321ec231-18ab-8f70-49f0-870baefdb40a\",\n",
    "        #\"Host\":\"os.fipi.ru\",\n",
    "        #\"Origin\" :\"http://os.fipi.ru\",\n",
    "        #\"Referer\": \"http://os.fipi.ru/tasks/1/a\",\n",
    "        \"sessionId\": \"321ec231-18ab-8f70-49f0-870baefdb40a\",\n",
    "        #\"User-Agent\": \"Mozilla/5.0 (Windows NT 10.0; Win64; x64) AppleWebKit/537.36 (KHTML, like Gecko) Chrome/98.0.4758.82 Safari/537.36\"\n",
    "    }\n",
    "    body = {\n",
    "        'subjectId': '1', #Russian\n",
    "        \"pageNumber\": pageNumber,\n",
    "        \"pageSize\": pageSize,\n",
    "        \"answerStatus\": 0,\n",
    "        \"docId\" : \"\",\n",
    "        \"extId\": \"\",\n",
    "        \"favorites\": 0,\n",
    "        \"fipiCode\": \"\",\n",
    "        \"id\": \"\",\n",
    "        \"isAdmin\": False, #CAN SET THIS TO TRUE AND IT WORKS (I get more tasks)\n",
    "        \"isPublished\": False,\n",
    "        \"levelIds\": [],\n",
    "        \"loadDates\": [],\n",
    "        \"published\": 0,\n",
    "        \"themeIds\": [],\n",
    "        \"themeSectionIds\": [],\n",
    "        \"typeIds\": []\n",
    "\n",
    "    #     \"levelIds\": [],\n",
    "    #     \"themeIds\": [],\n",
    "    #     \"typeIds\": [],\n",
    "    #     \"id\": \"\",\n",
    "\n",
    "    }\n",
    "    data = json.dumps(body)\n",
    "    #data = r'{\"subjectId\":\"1\",\"levelIds\":[],\"themeIds\":[],\"typeIds\":[],\"id\":\"\",\"favorites\":0,\"answerStatus\":0,\"themeSectionIds\":[],\"published\":0,\"extId\":\"\",\"fipiCode\":\"\",\"docId\":\"\",\"isAdmin\":false,\"loadDates\":[],\"isPublished\":false,\"pageSize\":5,\"pageNumber\":\"2\"}'\n",
    "    loaded = False\n",
    "    for i in range(numRetries):\n",
    "        try:\n",
    "            r = session.post(\"http://os.fipi.ru/api/tasks\", data = data,\n",
    "                  headers = headers)\n",
    "            loaded = True\n",
    "        except ConnectionResetError:\n",
    "            print('retrying')\n",
    "            pass\n",
    "    assert loaded\n",
    "    assert r.status_code == 200\n",
    "    return r.text\n"
   ]
  },
  {
   "cell_type": "code",
   "execution_count": 345,
   "metadata": {},
   "outputs": [],
   "source": [
    "try:\n",
    "    r = s.post(\"http://os.fipi.ru/api/tasks\", data = data,\n",
    "                  headers = headers)\n",
    "except ConnectionResetError:\n",
    "    print('failed')"
   ]
  },
  {
   "cell_type": "code",
   "execution_count": 349,
   "metadata": {
    "scrolled": true
   },
   "outputs": [
    {
     "name": "stdout",
     "output_type": "stream",
     "text": [
      "loaded 10 out of 1799\n",
      "loaded 20 out of 1799\n",
      "loaded 30 out of 1799\n",
      "loaded 40 out of 1799\n",
      "loaded 50 out of 1799\n",
      "loaded 60 out of 1799\n",
      "loaded 70 out of 1799\n",
      "loaded 80 out of 1799\n",
      "loaded 90 out of 1799\n",
      "loaded 100 out of 1799\n",
      "loaded 110 out of 1799\n",
      "loaded 120 out of 1799\n",
      "loaded 130 out of 1799\n",
      "loaded 140 out of 1799\n",
      "loaded 150 out of 1799\n",
      "loaded 160 out of 1799\n",
      "loaded 170 out of 1799\n",
      "loaded 180 out of 1799\n",
      "loaded 190 out of 1799\n",
      "loaded 200 out of 1799\n",
      "loaded 210 out of 1799\n",
      "loaded 220 out of 1799\n",
      "loaded 230 out of 1799\n",
      "loaded 240 out of 1799\n",
      "loaded 250 out of 1799\n",
      "loaded 260 out of 1799\n",
      "loaded 270 out of 1799\n",
      "loaded 280 out of 1799\n",
      "loaded 290 out of 1799\n",
      "loaded 300 out of 1799\n",
      "loaded 310 out of 1799\n",
      "loaded 320 out of 1799\n",
      "loaded 330 out of 1799\n",
      "loaded 340 out of 1799\n",
      "loaded 350 out of 1799\n",
      "loaded 360 out of 1799\n",
      "loaded 370 out of 1799\n",
      "loaded 380 out of 1799\n",
      "loaded 390 out of 1799\n",
      "loaded 400 out of 1799\n",
      "loaded 410 out of 1799\n",
      "loaded 420 out of 1799\n",
      "loaded 430 out of 1799\n",
      "loaded 440 out of 1799\n",
      "loaded 450 out of 1799\n",
      "loaded 460 out of 1799\n",
      "loaded 470 out of 1799\n",
      "loaded 480 out of 1799\n",
      "loaded 490 out of 1799\n",
      "loaded 500 out of 1799\n",
      "loaded 510 out of 1799\n",
      "loaded 520 out of 1799\n",
      "loaded 530 out of 1799\n",
      "loaded 540 out of 1799\n",
      "loaded 550 out of 1799\n",
      "loaded 560 out of 1799\n",
      "loaded 570 out of 1799\n",
      "loaded 580 out of 1799\n",
      "loaded 590 out of 1799\n",
      "loaded 600 out of 1799\n",
      "loaded 610 out of 1799\n",
      "loaded 620 out of 1799\n",
      "loaded 630 out of 1799\n",
      "loaded 640 out of 1799\n",
      "loaded 650 out of 1799\n",
      "loaded 660 out of 1799\n",
      "loaded 670 out of 1799\n",
      "loaded 680 out of 1799\n",
      "loaded 690 out of 1799\n",
      "loaded 700 out of 1799\n",
      "loaded 710 out of 1799\n",
      "loaded 720 out of 1799\n",
      "loaded 730 out of 1799\n",
      "loaded 740 out of 1799\n",
      "loaded 750 out of 1799\n",
      "loaded 760 out of 1799\n",
      "loaded 770 out of 1799\n",
      "loaded 780 out of 1799\n",
      "loaded 790 out of 1799\n",
      "loaded 800 out of 1799\n",
      "loaded 810 out of 1799\n",
      "loaded 820 out of 1799\n",
      "loaded 830 out of 1799\n",
      "loaded 840 out of 1799\n",
      "loaded 850 out of 1799\n",
      "loaded 860 out of 1799\n",
      "loaded 870 out of 1799\n",
      "loaded 880 out of 1799\n",
      "loaded 890 out of 1799\n",
      "loaded 900 out of 1799\n",
      "loaded 910 out of 1799\n",
      "loaded 920 out of 1799\n",
      "loaded 930 out of 1799\n",
      "loaded 940 out of 1799\n",
      "loaded 950 out of 1799\n",
      "loaded 960 out of 1799\n",
      "loaded 970 out of 1799\n",
      "loaded 980 out of 1799\n",
      "loaded 990 out of 1799\n",
      "loaded 1000 out of 1799\n",
      "loaded 1010 out of 1799\n",
      "loaded 1020 out of 1799\n",
      "loaded 1030 out of 1799\n",
      "loaded 1040 out of 1799\n",
      "loaded 1050 out of 1799\n",
      "loaded 1060 out of 1799\n",
      "loaded 1070 out of 1799\n",
      "loaded 1080 out of 1799\n",
      "loaded 1090 out of 1799\n",
      "loaded 1100 out of 1799\n",
      "loaded 1110 out of 1799\n",
      "loaded 1120 out of 1799\n",
      "loaded 1130 out of 1799\n",
      "loaded 1140 out of 1799\n",
      "loaded 1150 out of 1799\n",
      "loaded 1160 out of 1799\n",
      "loaded 1170 out of 1799\n",
      "loaded 1180 out of 1799\n",
      "loaded 1190 out of 1799\n",
      "loaded 1200 out of 1799\n",
      "loaded 1210 out of 1799\n",
      "loaded 1220 out of 1799\n",
      "loaded 1230 out of 1799\n",
      "loaded 1240 out of 1799\n",
      "loaded 1250 out of 1799\n",
      "loaded 1260 out of 1799\n",
      "loaded 1270 out of 1799\n",
      "loaded 1280 out of 1799\n",
      "loaded 1290 out of 1799\n",
      "loaded 1300 out of 1799\n",
      "loaded 1310 out of 1799\n",
      "loaded 1320 out of 1799\n",
      "loaded 1330 out of 1799\n",
      "loaded 1340 out of 1799\n",
      "loaded 1350 out of 1799\n",
      "loaded 1360 out of 1799\n",
      "loaded 1370 out of 1799\n",
      "loaded 1380 out of 1799\n",
      "loaded 1390 out of 1799\n",
      "loaded 1400 out of 1799\n",
      "loaded 1410 out of 1799\n",
      "loaded 1420 out of 1799\n",
      "loaded 1430 out of 1799\n",
      "loaded 1440 out of 1799\n",
      "loaded 1450 out of 1799\n",
      "loaded 1460 out of 1799\n",
      "loaded 1470 out of 1799\n",
      "loaded 1480 out of 1799\n",
      "loaded 1490 out of 1799\n",
      "loaded 1500 out of 1799\n",
      "loaded 1510 out of 1799\n",
      "loaded 1520 out of 1799\n",
      "loaded 1530 out of 1799\n",
      "loaded 1540 out of 1799\n",
      "loaded 1550 out of 1799\n",
      "loaded 1560 out of 1799\n",
      "loaded 1570 out of 1799\n",
      "loaded 1580 out of 1799\n",
      "loaded 1590 out of 1799\n",
      "loaded 1600 out of 1799\n",
      "loaded 1610 out of 1799\n",
      "loaded 1620 out of 1799\n",
      "loaded 1630 out of 1799\n",
      "loaded 1640 out of 1799\n",
      "loaded 1650 out of 1799\n",
      "loaded 1660 out of 1799\n",
      "loaded 1670 out of 1799\n",
      "loaded 1680 out of 1799\n",
      "loaded 1690 out of 1799\n",
      "loaded 1700 out of 1799\n",
      "loaded 1710 out of 1799\n",
      "loaded 1720 out of 1799\n",
      "loaded 1730 out of 1799\n",
      "loaded 1740 out of 1799\n",
      "loaded 1750 out of 1799\n",
      "loaded 1760 out of 1799\n",
      "loaded 1770 out of 1799\n",
      "loaded 1780 out of 1799\n",
      "loaded 1790 out of 1799\n",
      "loaded 1800 out of 1799\n"
     ]
    }
   ],
   "source": [
    "save_file = \"data.json\"\n",
    "pageSize= 10\n",
    "\n",
    "\n",
    "with open(save_file, \"w\") as f:\n",
    "    task_count = json.loads(send_request(s, pageNumber = 1, pageSize = 1))['taskCount']\n",
    "    tasks_loaded = 0\n",
    "    cur_page = 1\n",
    "    while tasks_loaded < task_count:\n",
    "        resp = send_request(s, pageNumber = cur_page, pageSize = pageSize)\n",
    "        resp = json.loads(resp)\n",
    "        assert task_count == resp['taskCount']\n",
    "        resp['my_timestamp'] = str(TS.now())\n",
    "        json.dump(resp, f)\n",
    "        f.write(\"\\n\")\n",
    "        cur_page +=1\n",
    "        tasks_loaded += pageSize\n",
    "        print(f\"loaded {tasks_loaded} out of {task_count}\")"
   ]
  },
  {
   "cell_type": "markdown",
   "metadata": {},
   "source": [
    "# parse tasks"
   ]
  },
  {
   "cell_type": "code",
   "execution_count": 242,
   "metadata": {},
   "outputs": [],
   "source": []
  },
  {
   "cell_type": "code",
   "execution_count": 298,
   "metadata": {},
   "outputs": [],
   "source": []
  },
  {
   "cell_type": "code",
   "execution_count": 299,
   "metadata": {},
   "outputs": [
    {
     "data": {
      "text/plain": [
       "\n",
       "Прочитайте текст и выполните задания.\n",
       "******************************************\n",
       "(1)… (2)Но бывало и по-другому. (3)В XVI веке испанский капитан Себастьян Кабот, плывя вверх по течению реки в Южной Америке, был поражён количеством серебра, которое было у местных индейцев, живших по берегам реки, и решил назвать её Ла-Платой, то есть серебряной  (по-испански «плата»   –   серебро). (4)… впоследствии произошло и название всей страны. (5)Однако в начале XIX века владычество Испании кончилось, и, чтобы не вспоминать об этом печальном периоде, жители страны латинизировали её название. (6)Так на географических картах появилось слово «Аргентина».\n",
       "******************************************\n",
       "\n",
       "******************************************\n",
       "correct: 2"
      ]
     },
     "execution_count": 299,
     "metadata": {},
     "output_type": "execute_result"
    }
   ],
   "source": [
    "task = parse_task(tasks[6])\n",
    "\n",
    "task"
   ]
  },
  {
   "cell_type": "code",
   "execution_count": 300,
   "metadata": {},
   "outputs": [
    {
     "name": "stdout",
     "output_type": "stream",
     "text": [
      "0\n",
      "\n",
      "Внимательно прочитайте текст задания и выберите верный ответ из списка\n",
      "******************************************\n",
      "В каком слове верно выделена буква, обозначающая ударный гласный звук?\n",
      "******************************************\n",
      "1) кухОнный\n",
      "2) нЕдуг\n",
      "3) перелИла\n",
      "4) звонИт\n",
      "******************************************\n",
      "correct: 4\n",
      "\n",
      "1\n",
      "\n",
      "Внимательно прочитайте текст задания и выберите верный ответ из списка\n",
      "******************************************\n",
      "В каком варианте ответа выделенное слово употреблено неверно?\n",
      "******************************************\n",
      "1) Вратарь хоккейной команды НАДЕВАЕТ экипировку, защищающую его от ударов шайбы.\n",
      "2) Летняя олимпиада стала самым ВПЕЧАТЛИТЕЛЬНЫМ событием минувшего года для многих миллионов людей.\n",
      "3) Если голос у исполнителя негромкий, а музыкальное сопровождение ЗВУЧНОЕ, артисту приходится постоянно напрягать связки.\n",
      "4) Передел мирового энергетического рынка ВСТУПИЛ в новую фазу.\n",
      "******************************************\n",
      "correct: 2\n",
      "\n",
      "2\n",
      "\n",
      "Внимательно прочитайте текст задания и выберите верный ответ из списка\n",
      "******************************************\n",
      "Укажите пример с ошибкой в образовании формы слова.\n",
      "******************************************\n",
      "1) молодые повары\n",
      "2) тончайший\n",
      "3) шестьюстами двадцатью тремя каталогами\n",
      "4) комплект полотенец\n",
      "******************************************\n",
      "correct: 1\n",
      "\n",
      "3\n",
      "\n",
      "Внимательно прочитайте текст задания и выберите верный ответ из списка\n",
      "******************************************\n",
      "Укажите грамматически правильное продолжение предложения.\n",
      "******************************************\n",
      "1) оказалось, что там слишком много ролей.\n",
      "2) началось распределение ролей.\n",
      "3) была назначена первая репетиция.\n",
      "4) мы немедленно начали репетировать.\n",
      "******************************************\n",
      "correct: 4\n",
      "\n",
      "4\n",
      "\n",
      "Внимательно прочитайте текст задания и выберите верный ответ из списка\n",
      "******************************************\n",
      "Укажите предложение с грамматической ошибкой (снарушением синтаксической нормы).\n",
      "******************************************\n",
      "1) Лес тянется с севера на юг, состоящий в основном из хвойных пород.\n",
      "2) К.Ушинский писал о том, что в языке отражается память народа.\n",
      "3) Те, кто преподаёт науки, служат делу просвещения, снаряжают молодых в долгий путь по жизни, развивают их ум и способности, благословляют на творческий поиск.\n",
      "4) К.Паустовский утверждал, что всюду: в городе и в деревне, на севере или на юге страны   –   он прислушивался к русской речи.\n",
      "******************************************\n",
      "correct: 1\n",
      "\n",
      "5\n",
      "\n",
      "Внимательно прочитайте текст задания и выберите верный ответ из списка\n",
      "******************************************\n",
      "В каком предложении придаточную часть сложноподчинённого предложения нельзя заменить обособленным определением, выраженным причастным оборотом?\n",
      "******************************************\n",
      "1) Византийские купола придают России неслыханную красоту, которая запечатлена в русской живописи.\n",
      "2) Антитеза, которая передаёт внутреннее состояние М.Ю.Лермонтова, часто встречается в его стихах и прозе.\n",
      "3) Параллельные проводники, по которым не протекают токи, не взаимодействуют друг с другом.\n",
      "4) Рейсовый самолёт, который идёт на большой высоте, сверкает ночью, словно мерцающая звезда.\n",
      "******************************************\n",
      "correct: 3\n",
      "\n",
      "6\n",
      "\n",
      "Прочитайте текст и выполните задания.\n",
      "******************************************\n",
      "(1)… (2)Но бывало и по-другому. (3)В XVI веке испанский капитан Себастьян Кабот, плывя вверх по течению реки в Южной Америке, был поражён количеством серебра, которое было у местных индейцев, живших по берегам реки, и решил назвать её Ла-Платой, то есть серебряной  (по-испански «плата»   –   серебро). (4)… впоследствии произошло и название всей страны. (5)Однако в начале XIX века владычество Испании кончилось, и, чтобы не вспоминать об этом печальном периоде, жители страны латинизировали её название. (6)Так на географических картах появилось слово «Аргентина».\n",
      "******************************************\n",
      "\n",
      "******************************************\n",
      "correct: 2\n",
      "\n",
      "7\n",
      "\n",
      "Задание №1. Внимательно прочитайте текст задания и выберите верный ответ из списка\n",
      "******************************************\n",
      "Какое из приведённых ниже предложений должно быть первым в этом тексте?\n",
      "******************************************\n",
      "1) Взгляните на таблицу Менделеева   –   вам охотно подтвердят это германий и франций, европий и америций.\n",
      "2) Географическая карта не раз служила подсказкой при выборе имени для вновь открытых химических элементов.\n",
      "3) Северная и Южная Америка составляют два самостоятельных материка и сильно отличаются по природным условиям.\n",
      "4) Большинство населения Южной Америки говорит на испанском языке.\n",
      "******************************************\n",
      "correct: 2\n",
      "\n",
      "8\n",
      "\n",
      "Задание №2. Внимательно прочитайте текст задания и выберите верный ответ из списка\n",
      "******************************************\n",
      "Какое из приведённых ниже слов или сочетаний слов должно быть на месте пропуска в четвёртом предложении текста?\n",
      "******************************************\n",
      "1) Поэтому\n",
      "2) Наоборот,\n",
      "3) И тем не менее\n",
      "4) Отсюда\n",
      "******************************************\n",
      "correct: 4\n",
      "\n",
      "9\n",
      "\n",
      "Задание №3. Внимательно прочитайте текст задания и выберите верный ответ из списка\n",
      "******************************************\n",
      "Какое слово или сочетание слов является грамматической основой в одном из предложений или в одной из частей сложного предложения текста?\n",
      "******************************************\n",
      "1) не вспоминать (предложение 5)\n",
      "2) латинизировали название (предложение 5)\n",
      "3) было (предложение 3)\n",
      "4) капитан был (и) решил (предложение 3)\n",
      "******************************************\n",
      "correct: 1\n",
      "\n",
      "10\n",
      "\n",
      "Задание №4. Внимательно прочитайте текст задания и выберите верный ответ из списка\n",
      "******************************************\n",
      "Укажите верную характеристику пятого (5) предложения текста.\n",
      "******************************************\n",
      "1) простое осложнённое\n",
      "2) сложное с союзной сочинительной и подчинительной связью между частями\n",
      "3) сложноподчинённое\n",
      "4) сложносочинённое\n",
      "******************************************\n",
      "correct: 2\n",
      "\n"
     ]
    }
   ],
   "source": [
    "for i, task in enumerate(tasks):\n",
    "    print(i)\n",
    "    print(parse_task(task))"
   ]
  },
  {
   "cell_type": "code",
   "execution_count": 264,
   "metadata": {},
   "outputs": [
    {
     "data": {
      "text/plain": [
       "\n",
       "Прочитайте текст и выполните задания.\n",
       "******************************************\n",
       "(1)… (2)Но бывало и по-другому. (3)В XVI веке испанский капитан Себастьян Кабот, плывя вверх по течению реки в Южной Америке, был поражён количеством серебра, которое было у местных индейцев, живших по берегам реки, и решил назвать её Ла-Платой, то есть серебряной  (по-испански «плата»   – MathType@MTEF@5@5@+=feaaguart1ev2aqatCvAUfeBSjuyZL2yd9gzLbvyNv2CaerbuLwBLnhiov2DGi1BTfMBaeXatLxBI9gBaerbd9wDYLwzYbItLDharqqtubsr4rNCHbGeaGqipD0dg9qqqrpepC0xbbL8F4rqqrFfpeea0xe9Lq=Jc9vqaqpepm0xbba9pwe9Q8fs0=yqaqpepae9pg0FirpepeKkFr0xfr=xfr=xb9adbiqaaeaacaGaaiaabeqaamaabaabaaGcbaacbaqcLbCaqaaaaaaaaaWdbiaa=nbiaaa@3781@   серебро). (4)… впоследствии произошло и название всей страны. (5)Однако в начале XIX века владычество Испании кончилось, и, чтобы не вспоминать об этом печальном периоде, жители страны латинизировали её название. (6)Так на географических картах появилось слово «Аргентина».\n",
       "******************************************\n",
       "\n",
       "******************************************\n",
       "correct: 2"
      ]
     },
     "execution_count": 264,
     "metadata": {},
     "output_type": "execute_result"
    }
   ],
   "source": [
    "parse_task(tasks[6])"
   ]
  },
  {
   "cell_type": "code",
   "execution_count": 263,
   "metadata": {},
   "outputs": [
    {
     "data": {
      "text/plain": [
       "\n",
       "Задание №1. Внимательно прочитайте текст задания и выберите верный ответ из списка\n",
       "******************************************\n",
       "Какое из приведённых ниже предложений должно быть первым в этом тексте?\n",
       "******************************************\n",
       "1) Взгляните на таблицу Менделеева   – MathType@MTEF@5@5@+=feaaguart1ev2aqatCvAUfeBSjuyZL2yd9gzLbvyNv2CaerbuLwBLnhiov2DGi1BTfMBaeXatLxBI9gBaerbd9wDYLwzYbItLDharqqtubsr4rNCHbGeaGqipD0dg9qqqrpepC0xbbL8F4rqqrFfpeea0xe9Lq=Jc9vqaqpepm0xbba9pwe9Q8fs0=yqaqpepae9pg0FirpepeKkFr0xfr=xfr=xb9adbiqaaeaacaGaaiaabeqaamaabaabaaGcbaacbaqcLbCaqaaaaaaaaaWdbiaa=nbiaaa@3781@   вам охотно подтвердят это германий и франций, европий и америций.\n",
       "2) Географическая карта не раз служила подсказкой при выборе имени для вновь открытых химических элементов.\n",
       "3) Северная и Южная Америка составляют два самостоятельных материка и сильно отличаются по природным условиям.\n",
       "4) Большинство населения Южной Америки говорит на испанском языке.\n",
       "******************************************\n",
       "correct: 2"
      ]
     },
     "execution_count": 263,
     "metadata": {},
     "output_type": "execute_result"
    }
   ],
   "source": [
    "parse_task(tasks[7])"
   ]
  },
  {
   "cell_type": "code",
   "execution_count": 226,
   "metadata": {},
   "outputs": [
    {
     "data": {
      "text/plain": [
       "<p class=\"Basis\">В каком варианте ответа выделенное слово употреблено <b>неверно</b>?</p>"
      ]
     },
     "execution_count": 226,
     "metadata": {},
     "output_type": "execute_result"
    }
   ],
   "source": [
    "task= tasks[1]\n",
    "parsed = BeautifulSoup(task['html'])\n",
    "parsed.find(\"p\", attrs = {\"class\":lambda x: x.lower()==\"basis\"})\n"
   ]
  },
  {
   "cell_type": "code",
   "execution_count": 244,
   "metadata": {},
   "outputs": [
    {
     "data": {
      "text/plain": [
       "'Внимательно прочитайте текст задания и выберите верный ответ из списка'"
      ]
     },
     "execution_count": 244,
     "metadata": {},
     "output_type": "execute_result"
    }
   ],
   "source": []
  },
  {
   "cell_type": "code",
   "execution_count": 241,
   "metadata": {},
   "outputs": [
    {
     "data": {
      "text/plain": [
       "<!DOCTYPE html>\n",
       "<html test=\"\"><head>\n",
       "    <title>Нулевая страница</title>\n",
       "    <meta content=\"text/html; charset=utf-8\" http-equiv=\"Content-Type\"/>\n",
       "    <meta charset=\"utf-8\"/>\n",
       "    <link href=\"/Content/KimTemplate/kimTmp.css\" rel=\"stylesheet\"/>\n",
       "    <link href=\"/Content/KimTemplate/kimTmpCheckBox.css\" rel=\"stylesheet\"/>\n",
       "    <script src=\"/Scripts/es6-shim/es6-shim.min.js\"></script>\n",
       "    <link href=\"/Content/task-common.css\" rel=\"stylesheet\"/>\n",
       "    <script src=\"/scripts/task-common.bundle.js\"></script>\n",
       "    <script src=\"/scripts/task-helper.js\"></script>\n",
       "    <script src=\"/scripts/shuffleHelper.js\"></script>\n",
       "    <script src=\"/scripts/fipi-tools.js?rev=2\"></script>\n",
       "    <script src=\"https://cdnjs.cloudflare.com/ajax/libs/mathjax/2.7.0/MathJax.js?config=MML_HTMLorMML\"></script>\n",
       "    <script type=\"text/x-mathjax-config\">\n",
       "        MathJax.Hub.Config({messageStyle: \"none\"});\n",
       "    </script>\n",
       "</head>\n",
       "<body class=\"custom-scroll-no inner-answers test noselect\">\n",
       "    <input id=\"TaskId\" type=\"hidden\" value=\"15690\"/>\n",
       "    <div class=\"hint\" id=\"hint\" name=\"hint\">Прочитайте текст и выполните задания.</div>\n",
       "    <div class=\"task-content-no\">\n",
       "        <div class=\"text custom-scroll-no\" id=\"text\" name=\"text\">\n",
       "               <p class=\"MsoNormal\">(1)… (2)Но бывало и по-другому. (3)В <span>XVI</span> веке испанский капитан Себастьян Кабот, плывя вверх по течению реки в Южной Америке, был поражён количеством серебра, которое было у местных индейцев, живших по берегам реки, и решил назвать её Ла-Платой, то есть серебряной  (по-испански «плата» <math> <semantics> <mo>–</mo> <annotation encoding=\"MathType-MTEF\">MathType@MTEF@5@5@+=feaaguart1ev2aqatCvAUfeBSjuyZL2yd9gzLbvyNv2CaerbuLwBLnhiov2DGi1BTfMBaeXatLxBI9gBaerbd9wDYLwzYbItLDharqqtubsr4rNCHbGeaGqipD0dg9qqqrpepC0xbbL8F4rqqrFfpeea0xe9Lq=Jc9vqaqpepm0xbba9pwe9Q8fs0=yqaqpepae9pg0FirpepeKkFr0xfr=xfr=xb9adbiqaaeaacaGaaiaabeqaamaabaabaaGcbaacbaqcLbCaqaaaaaaaaaWdbiaa=nbiaaa@3781@</annotation> </semantics> </math> серебро). (4)… впоследствии произошло и название всей страны. (5)Однако в начале <span>XIX</span> века владычество Испании кончилось, и, чтобы не вспоминать об этом печальном периоде, жители страны латинизировали её название. (6)Так на географических картах появилось слово «Аргентина».<span></span></p>  <p class=\"MsoNormal\"><span> </span></p>  \n",
       "        </div>\n",
       "    </div>\n",
       "\n",
       "\n",
       "</body></html>"
      ]
     },
     "execution_count": 241,
     "metadata": {},
     "output_type": "execute_result"
    }
   ],
   "source": [
    "BeautifulSoup(tasks[6]['html'])"
   ]
  },
  {
   "cell_type": "code",
   "execution_count": 240,
   "metadata": {},
   "outputs": [
    {
     "data": {
      "text/plain": [
       "<!DOCTYPE html>\n",
       "<html test=\"\"><head>\n",
       "    <title tasktype=\"RadioButton\">Внимательно прочитайте текст задания и выберите верный ответ из списка</title>\n",
       "    <meta content=\"text/html; charset=utf-8\" http-equiv=\"Content-Type\"/>\n",
       "    <meta charset=\"utf-8\"/>\n",
       "    <link href=\"/Content/KimTemplate/kimTmp.css\" rel=\"stylesheet\"/>\n",
       "    <link href=\"/Content/KimTemplate/kimTmpCheckBox.css\" rel=\"stylesheet\"/>\n",
       "    <script src=\"/Scripts/es6-shim/es6-shim.min.js\"></script>\n",
       "    <link href=\"/Content/task-common.css\" rel=\"stylesheet\"/>\n",
       "    <script src=\"/scripts/task-common.bundle.js\"></script>\n",
       "    <script src=\"/scripts/task-helper.js\"></script>\n",
       "    <script src=\"/scripts/shuffleHelper.js\"></script>\n",
       "    <script src=\"/scripts/RadioButtonTest.js\"></script>\n",
       "    <script src=\"/scripts/fipi-tools.js?rev=2\"></script>\n",
       "    <script src=\"https://cdnjs.cloudflare.com/ajax/libs/mathjax/2.7.0/MathJax.js?config=MML_HTMLorMML\"></script>\n",
       "    <script type=\"text/x-mathjax-config\">\n",
       "        MathJax.Hub.Config({messageStyle: \"none\"});\n",
       "    </script>\n",
       "</head>\n",
       "<body class=\"custom-scroll-no inner-answers noselect\">\n",
       "    <input id=\"TaskId\" type=\"hidden\" value=\"15689\"/>\n",
       "    <div class=\"hint\" id=\"hint\" name=\"hint\">Внимательно прочитайте текст задания и выберите верный ответ из списка</div>\n",
       "    <div class=\"task-content-no\">\n",
       "        <div class=\"text custom-scroll-no\" id=\"text\" name=\"text\">\n",
       "              <p class=\"basis\">В каком предложении придаточную часть сложноподчинённого предложения нельзя заменить обособленным определением, выраженным причастным оборотом?<span></span></p>  \n",
       "        </div>\n",
       "        <div class=\"answers custom-scroll-no radio-items\">\n",
       "            <div class=\"answer-title\">Ответ:</div>\n",
       "                <div class=\"answer\" id=\"answer_1\" number=\"1\">  <p class=\"distractor\">Византийские купола придают России неслыханную красоту, которая запечатлена в русской живописи.<span></span></p>  </div>\n",
       "                <div class=\"answer\" id=\"answer_2\" number=\"2\">  <p class=\"distractor\">Антитеза, которая передаёт внутреннее состояние М.Ю. Лермонтова, часто встречается в его стихах и прозе.<span></span></p>  </div>\n",
       "                <div class=\"answer\" id=\"answer_3\" number=\"3\">  <p class=\"distractor\">Параллельные проводники, по которым не протекают токи, не взаимодействуют друг с другом.<span></span></p>  </div>\n",
       "                <div class=\"answer\" id=\"answer_4\" number=\"4\">  <p class=\"distractor\">Рейсовый самолёт, который идёт на большой высоте, сверкает ночью, словно мерцающая звезда.<span></span></p>  </div>\n",
       "        </div>\n",
       "    </div>\n",
       "\n",
       "</body></html>"
      ]
     },
     "execution_count": 240,
     "metadata": {},
     "output_type": "execute_result"
    }
   ],
   "source": [
    "BeautifulSoup(tasks[5]['html'])"
   ]
  },
  {
   "cell_type": "code",
   "execution_count": 237,
   "metadata": {},
   "outputs": [
    {
     "name": "stdout",
     "output_type": "stream",
     "text": [
      "\n",
      "              В каком слове верно выделена буква, обозначающая ударный гласный звук?  \n",
      "        \n",
      "\n",
      "             В каком варианте ответа выделенное слово употреблено неверно? \n",
      "        \n",
      "\n",
      "              Укажите пример с ошибкой в образовании формы слова.  \n",
      "        \n",
      "\n",
      "              Укажите грамматически правильное продолжение предложения. Выбрав пьесу,  \n",
      "        \n",
      "\n",
      "              Укажите предложение с грамматической ошибкой (с нарушением синтаксической нормы).  \n",
      "        \n",
      "\n",
      "              В каком предложении придаточную часть сложноподчинённого предложения нельзя заменить обособленным определением, выраженным причастным оборотом?  \n",
      "        \n",
      "\n",
      "               (1)… (2)Но бывало и по-другому. (3)В XVI веке испанский капитан Себастьян Кабот, плывя вверх по течению реки в Южной Америке, был поражён количеством серебра, которое было у местных индейцев, живших по берегам реки, и решил назвать её Ла-Платой, то есть серебряной  (по-испански «плата»   – MathType@MTEF@5@5@+=feaaguart1ev2aqatCvAUfeBSjuyZL2yd9gzLbvyNv2CaerbuLwBLnhiov2DGi1BTfMBaeXatLxBI9gBaerbd9wDYLwzYbItLDharqqtubsr4rNCHbGeaGqipD0dg9qqqrpepC0xbbL8F4rqqrFfpeea0xe9Lq=Jc9vqaqpepm0xbba9pwe9Q8fs0=yqaqpepae9pg0FirpepeKkFr0xfr=xfr=xb9adbiqaaeaacaGaaiaabeqaamaabaabaaGcbaacbaqcLbCaqaaaaaaaaaWdbiaa=nbiaaa@3781@   серебро). (4)… впоследствии произошло и название всей страны. (5)Однако в начале XIX века владычество Испании кончилось, и, чтобы не вспоминать об этом печальном периоде, жители страны латинизировали её название. (6)Так на географических картах появилось слово «Аргентина».     \n",
      "        \n",
      "\n",
      "              Какое из приведённых ниже предложений должно быть первым в этом тексте?  \n",
      "        \n",
      "\n",
      "              Какое из приведённых ниже слов или сочетаний слов должно быть на месте пропуска в четвёртом предложении текста?  \n",
      "        \n",
      "\n",
      "              Какое слово или сочетание слов является грамматической основой в одном из предложений или в одной из частей сложного предложения текста?  \n",
      "        \n",
      "\n",
      "              Укажите верную характеристику пятого (5) предложения текста.  \n",
      "        \n"
     ]
    }
   ],
   "source": [
    "for task in tasks:\n",
    "    res = BeautifulSoup(task['html']).find(\"div\", attrs = {\"name\": \"text\"}).text\n",
    "    print(res)"
   ]
  },
  {
   "cell_type": "code",
   "execution_count": 230,
   "metadata": {},
   "outputs": [
    {
     "ename": "AssertionError",
     "evalue": "",
     "output_type": "error",
     "traceback": [
      "\u001b[0;31m---------------------------------------------------------------------------\u001b[0m",
      "\u001b[0;31mAssertionError\u001b[0m                            Traceback (most recent call last)",
      "\u001b[0;32m<ipython-input-230-e21d9c96857d>\u001b[0m in \u001b[0;36m<module>\u001b[0;34m\u001b[0m\n\u001b[0;32m----> 1\u001b[0;31m \u001b[0mparse_task\u001b[0m\u001b[0;34m(\u001b[0m\u001b[0mtasks\u001b[0m\u001b[0;34m[\u001b[0m\u001b[0;36m2\u001b[0m\u001b[0;34m]\u001b[0m\u001b[0;34m)\u001b[0m\u001b[0;34m\u001b[0m\u001b[0;34m\u001b[0m\u001b[0m\n\u001b[0m",
      "\u001b[0;32m<ipython-input-227-1210ca747ee6>\u001b[0m in \u001b[0;36mparse_task\u001b[0;34m(task)\u001b[0m\n\u001b[1;32m      5\u001b[0m     \u001b[0mparsed\u001b[0m \u001b[0;34m=\u001b[0m \u001b[0mBeautifulSoup\u001b[0m\u001b[0;34m(\u001b[0m\u001b[0mtask\u001b[0m\u001b[0;34m[\u001b[0m\u001b[0;34m'html'\u001b[0m\u001b[0;34m]\u001b[0m\u001b[0;34m)\u001b[0m\u001b[0;34m\u001b[0m\u001b[0;34m\u001b[0m\u001b[0m\n\u001b[1;32m      6\u001b[0m     \u001b[0mprompt_el\u001b[0m \u001b[0;34m=\u001b[0m \u001b[0mparsed\u001b[0m\u001b[0;34m.\u001b[0m\u001b[0mfind\u001b[0m\u001b[0;34m(\u001b[0m\u001b[0;34m\"p\"\u001b[0m\u001b[0;34m,\u001b[0m\u001b[0mattrs\u001b[0m \u001b[0;34m=\u001b[0m \u001b[0;34m{\u001b[0m\u001b[0;34m\"class\"\u001b[0m\u001b[0;34m:\u001b[0m\u001b[0;32mlambda\u001b[0m \u001b[0mx\u001b[0m\u001b[0;34m:\u001b[0m \u001b[0mx\u001b[0m\u001b[0;34m.\u001b[0m\u001b[0mlower\u001b[0m\u001b[0;34m(\u001b[0m\u001b[0;34m)\u001b[0m\u001b[0;34m==\u001b[0m\u001b[0;34m\"basis\"\u001b[0m\u001b[0;34m}\u001b[0m\u001b[0;34m)\u001b[0m\u001b[0;34m\u001b[0m\u001b[0;34m\u001b[0m\u001b[0m\n\u001b[0;32m----> 7\u001b[0;31m     \u001b[0;32massert\u001b[0m \u001b[0mprompt_el\u001b[0m \u001b[0;32mis\u001b[0m \u001b[0;32mnot\u001b[0m \u001b[0;32mNone\u001b[0m\u001b[0;34m\u001b[0m\u001b[0;34m\u001b[0m\u001b[0m\n\u001b[0m\u001b[1;32m      8\u001b[0m     \u001b[0mprompt\u001b[0m \u001b[0;34m=\u001b[0m \u001b[0mprompt_el\u001b[0m\u001b[0;34m.\u001b[0m\u001b[0mtext\u001b[0m\u001b[0;34m\u001b[0m\u001b[0;34m\u001b[0m\u001b[0m\n\u001b[1;32m      9\u001b[0m     \u001b[0manswers\u001b[0m \u001b[0;34m=\u001b[0m \u001b[0;34m[\u001b[0m\u001b[0mx\u001b[0m\u001b[0;34m.\u001b[0m\u001b[0mtext\u001b[0m\u001b[0;34m.\u001b[0m\u001b[0mstrip\u001b[0m\u001b[0;34m(\u001b[0m\u001b[0;34m)\u001b[0m \u001b[0;32mfor\u001b[0m \u001b[0mx\u001b[0m \u001b[0;32min\u001b[0m \u001b[0mparsed\u001b[0m\u001b[0;34m.\u001b[0m\u001b[0mfind_all\u001b[0m\u001b[0;34m(\u001b[0m\u001b[0;34m\"div\"\u001b[0m\u001b[0;34m,\u001b[0m \u001b[0mattrs\u001b[0m \u001b[0;34m=\u001b[0m \u001b[0;34m{\u001b[0m\u001b[0;34m\"class\"\u001b[0m\u001b[0;34m:\u001b[0m\u001b[0;34m'answer'\u001b[0m\u001b[0;34m}\u001b[0m\u001b[0;34m)\u001b[0m\u001b[0;34m]\u001b[0m\u001b[0;34m\u001b[0m\u001b[0;34m\u001b[0m\u001b[0m\n",
      "\u001b[0;31mAssertionError\u001b[0m: "
     ]
    }
   ],
   "source": [
    "parse_task(tasks[2])"
   ]
  },
  {
   "cell_type": "code",
   "execution_count": 86,
   "metadata": {},
   "outputs": [
    {
     "name": "stdout",
     "output_type": "stream",
     "text": [
      "0\n",
      "1\n"
     ]
    },
    {
     "ename": "AssertionError",
     "evalue": "",
     "output_type": "error",
     "traceback": [
      "\u001b[0;31m---------------------------------------------------------------------------\u001b[0m",
      "\u001b[0;31mAssertionError\u001b[0m                            Traceback (most recent call last)",
      "\u001b[0;32m<ipython-input-86-208c430977c8>\u001b[0m in \u001b[0;36m<module>\u001b[0;34m\u001b[0m\n\u001b[1;32m      1\u001b[0m \u001b[0;32mfor\u001b[0m \u001b[0mi\u001b[0m\u001b[0;34m,\u001b[0m\u001b[0mtask\u001b[0m \u001b[0;32min\u001b[0m \u001b[0menumerate\u001b[0m\u001b[0;34m(\u001b[0m\u001b[0mtasks\u001b[0m\u001b[0;34m)\u001b[0m\u001b[0;34m:\u001b[0m\u001b[0;34m\u001b[0m\u001b[0;34m\u001b[0m\u001b[0m\n\u001b[1;32m      2\u001b[0m     \u001b[0mprint\u001b[0m\u001b[0;34m(\u001b[0m\u001b[0mi\u001b[0m\u001b[0;34m)\u001b[0m\u001b[0;34m\u001b[0m\u001b[0;34m\u001b[0m\u001b[0m\n\u001b[0;32m----> 3\u001b[0;31m     \u001b[0mparse_task\u001b[0m\u001b[0;34m(\u001b[0m\u001b[0mtasks\u001b[0m\u001b[0;34m[\u001b[0m\u001b[0mi\u001b[0m\u001b[0;34m]\u001b[0m\u001b[0;34m)\u001b[0m\u001b[0;34m\u001b[0m\u001b[0;34m\u001b[0m\u001b[0m\n\u001b[0m",
      "\u001b[0;32m<ipython-input-84-99998a354c41>\u001b[0m in \u001b[0;36mparse_task\u001b[0;34m(task)\u001b[0m\n\u001b[1;32m      6\u001b[0m     \u001b[0mparsed\u001b[0m \u001b[0;34m=\u001b[0m \u001b[0mBeautifulSoup\u001b[0m\u001b[0;34m(\u001b[0m\u001b[0mtask\u001b[0m\u001b[0;34m[\u001b[0m\u001b[0;34m'html'\u001b[0m\u001b[0;34m]\u001b[0m\u001b[0;34m)\u001b[0m\u001b[0;34m\u001b[0m\u001b[0;34m\u001b[0m\u001b[0m\n\u001b[1;32m      7\u001b[0m     \u001b[0mprompt_el\u001b[0m \u001b[0;34m=\u001b[0m \u001b[0mparsed\u001b[0m\u001b[0;34m.\u001b[0m\u001b[0mfind\u001b[0m\u001b[0;34m(\u001b[0m\u001b[0;34m\"p\"\u001b[0m\u001b[0;34m,\u001b[0m\u001b[0mattrs\u001b[0m \u001b[0;34m=\u001b[0m \u001b[0;34m{\u001b[0m\u001b[0;34m\"class\"\u001b[0m\u001b[0;34m:\u001b[0m\u001b[0;34m'basis'\u001b[0m\u001b[0;34m}\u001b[0m\u001b[0;34m)\u001b[0m\u001b[0;34m\u001b[0m\u001b[0;34m\u001b[0m\u001b[0m\n\u001b[0;32m----> 8\u001b[0;31m     \u001b[0;32massert\u001b[0m \u001b[0mprompt_el\u001b[0m \u001b[0;32mis\u001b[0m \u001b[0;32mnot\u001b[0m \u001b[0;32mNone\u001b[0m\u001b[0;34m\u001b[0m\u001b[0;34m\u001b[0m\u001b[0m\n\u001b[0m\u001b[1;32m      9\u001b[0m     \u001b[0mprompt\u001b[0m \u001b[0;34m=\u001b[0m \u001b[0mprompt_el\u001b[0m\u001b[0;34m.\u001b[0m\u001b[0mtext\u001b[0m\u001b[0;34m\u001b[0m\u001b[0;34m\u001b[0m\u001b[0m\n\u001b[1;32m     10\u001b[0m     \u001b[0manswers\u001b[0m \u001b[0;34m=\u001b[0m \u001b[0;34m[\u001b[0m\u001b[0mx\u001b[0m\u001b[0;34m.\u001b[0m\u001b[0mtext\u001b[0m\u001b[0;34m.\u001b[0m\u001b[0mstrip\u001b[0m\u001b[0;34m(\u001b[0m\u001b[0;34m)\u001b[0m \u001b[0;32mfor\u001b[0m \u001b[0mx\u001b[0m \u001b[0;32min\u001b[0m \u001b[0mparsed\u001b[0m\u001b[0;34m.\u001b[0m\u001b[0mfind_all\u001b[0m\u001b[0;34m(\u001b[0m\u001b[0;34m\"div\"\u001b[0m\u001b[0;34m,\u001b[0m \u001b[0mattrs\u001b[0m \u001b[0;34m=\u001b[0m \u001b[0;34m{\u001b[0m\u001b[0;34m\"class\"\u001b[0m\u001b[0;34m:\u001b[0m\u001b[0;34m'answer'\u001b[0m\u001b[0;34m}\u001b[0m\u001b[0;34m)\u001b[0m\u001b[0;34m]\u001b[0m\u001b[0;34m\u001b[0m\u001b[0;34m\u001b[0m\u001b[0m\n",
      "\u001b[0;31mAssertionError\u001b[0m: "
     ]
    }
   ],
   "source": [
    "for i,task in enumerate(tasks):\n",
    "    print(i)\n",
    "    parse_task(tasks[i])"
   ]
  },
  {
   "cell_type": "code",
   "execution_count": 89,
   "metadata": {},
   "outputs": [
    {
     "data": {
      "text/plain": [
       "<!DOCTYPE html>\n",
       "<html test=\"\"><head>\n",
       "    <title>Нулевая страница</title>\n",
       "    <meta content=\"text/html; charset=utf-8\" http-equiv=\"Content-Type\"/>\n",
       "    <meta charset=\"utf-8\"/>\n",
       "    <link href=\"/Content/KimTemplate/kimTmp.css\" rel=\"stylesheet\"/>\n",
       "    <link href=\"/Content/KimTemplate/kimTmpCheckBox.css\" rel=\"stylesheet\"/>\n",
       "    <script src=\"/Scripts/es6-shim/es6-shim.min.js\"></script>\n",
       "    <link href=\"/Content/task-common.css\" rel=\"stylesheet\"/>\n",
       "    <script src=\"/scripts/task-common.bundle.js\"></script>\n",
       "    <script src=\"/scripts/task-helper.js\"></script>\n",
       "    <script src=\"/scripts/shuffleHelper.js\"></script>\n",
       "    <script src=\"/scripts/fipi-tools.js?rev=2\"></script>\n",
       "    <script src=\"https://cdnjs.cloudflare.com/ajax/libs/mathjax/2.7.0/MathJax.js?config=MML_HTMLorMML\"></script>\n",
       "    <script type=\"text/x-mathjax-config\">\n",
       "        MathJax.Hub.Config({messageStyle: \"none\"});\n",
       "    </script>\n",
       "</head>\n",
       "<body class=\"custom-scroll-no inner-answers test noselect\">\n",
       "    <input id=\"TaskId\" type=\"hidden\" value=\"15690\"/>\n",
       "    <div class=\"hint\" id=\"hint\" name=\"hint\">Прочитайте текст и выполните задания.</div>\n",
       "    <div class=\"task-content-no\">\n",
       "        <div class=\"text custom-scroll-no\" id=\"text\" name=\"text\">\n",
       "               <p class=\"MsoNormal\">(1)… (2)Но бывало и по-другому. (3)В <span>XVI</span> веке испанский капитан Себастьян Кабот, плывя вверх по течению реки в Южной Америке, был поражён количеством серебра, которое было у местных индейцев, живших по берегам реки, и решил назвать её Ла-Платой, то есть серебряной  (по-испански «плата» <math> <semantics> <mo>–</mo> <annotation encoding=\"MathType-MTEF\">MathType@MTEF@5@5@+=feaaguart1ev2aqatCvAUfeBSjuyZL2yd9gzLbvyNv2CaerbuLwBLnhiov2DGi1BTfMBaeXatLxBI9gBaerbd9wDYLwzYbItLDharqqtubsr4rNCHbGeaGqipD0dg9qqqrpepC0xbbL8F4rqqrFfpeea0xe9Lq=Jc9vqaqpepm0xbba9pwe9Q8fs0=yqaqpepae9pg0FirpepeKkFr0xfr=xfr=xb9adbiqaaeaacaGaaiaabeqaamaabaabaaGcbaacbaqcLbCaqaaaaaaaaaWdbiaa=nbiaaa@3781@</annotation> </semantics> </math> серебро). (4)… впоследствии произошло и название всей страны. (5)Однако в начале <span>XIX</span> века владычество Испании кончилось, и, чтобы не вспоминать об этом печальном периоде, жители страны латинизировали её название. (6)Так на географических картах появилось слово «Аргентина».<span></span></p>  <p class=\"MsoNormal\"><span> </span></p>  \n",
       "        </div>\n",
       "    </div>\n",
       "\n",
       "\n",
       "</body></html>"
      ]
     },
     "execution_count": 89,
     "metadata": {},
     "output_type": "execute_result"
    }
   ],
   "source": [
    "BeautifulSoup(tasks[1]['html'])"
   ]
  },
  {
   "cell_type": "code",
   "execution_count": 94,
   "metadata": {},
   "outputs": [
    {
     "data": {
      "text/plain": [
       "<!DOCTYPE html>\n",
       "<html test=\"\"><head>\n",
       "    <title tasktype=\"RadioButton\">Внимательно прочитайте текст задания и выберите верный ответ из списка</title>\n",
       "    <meta content=\"text/html; charset=utf-8\" http-equiv=\"Content-Type\"/>\n",
       "    <meta charset=\"utf-8\"/>\n",
       "    <link href=\"/Content/KimTemplate/kimTmp.css\" rel=\"stylesheet\"/>\n",
       "    <link href=\"/Content/KimTemplate/kimTmpCheckBox.css\" rel=\"stylesheet\"/>\n",
       "    <script src=\"/Scripts/es6-shim/es6-shim.min.js\"></script>\n",
       "    <link href=\"/Content/task-common.css\" rel=\"stylesheet\"/>\n",
       "    <script src=\"/scripts/task-common.bundle.js\"></script>\n",
       "    <script src=\"/scripts/task-helper.js\"></script>\n",
       "    <script src=\"/scripts/shuffleHelper.js\"></script>\n",
       "    <script src=\"/scripts/RadioButtonTest.js\"></script>\n",
       "    <script src=\"/scripts/fipi-tools.js?rev=2\"></script>\n",
       "    <script src=\"https://cdnjs.cloudflare.com/ajax/libs/mathjax/2.7.0/MathJax.js?config=MML_HTMLorMML\"></script>\n",
       "    <script type=\"text/x-mathjax-config\">\n",
       "        MathJax.Hub.Config({messageStyle: \"none\"});\n",
       "    </script>\n",
       "</head>\n",
       "<body class=\"custom-scroll-no inner-answers noselect\">\n",
       "    <input id=\"TaskId\" type=\"hidden\" value=\"15689\"/>\n",
       "    <div class=\"hint\" id=\"hint\" name=\"hint\">Внимательно прочитайте текст задания и выберите верный ответ из списка</div>\n",
       "    <div class=\"task-content-no\">\n",
       "        <div class=\"text custom-scroll-no\" id=\"text\" name=\"text\">\n",
       "              <p class=\"basis\">В каком предложении придаточную часть сложноподчинённого предложения нельзя заменить обособленным определением, выраженным причастным оборотом?<span></span></p>  \n",
       "        </div>\n",
       "        <div class=\"answers custom-scroll-no radio-items\">\n",
       "            <div class=\"answer-title\">Ответ:</div>\n",
       "                <div class=\"answer\" id=\"answer_1\" number=\"1\">  <p class=\"distractor\">Византийские купола придают России неслыханную красоту, которая запечатлена в русской живописи.<span></span></p>  </div>\n",
       "                <div class=\"answer\" id=\"answer_2\" number=\"2\">  <p class=\"distractor\">Антитеза, которая передаёт внутреннее состояние М.Ю. Лермонтова, часто встречается в его стихах и прозе.<span></span></p>  </div>\n",
       "                <div class=\"answer\" id=\"answer_3\" number=\"3\">  <p class=\"distractor\">Параллельные проводники, по которым не протекают токи, не взаимодействуют друг с другом.<span></span></p>  </div>\n",
       "                <div class=\"answer\" id=\"answer_4\" number=\"4\">  <p class=\"distractor\">Рейсовый самолёт, который идёт на большой высоте, сверкает ночью, словно мерцающая звезда.<span></span></p>  </div>\n",
       "        </div>\n",
       "    </div>\n",
       "\n",
       "</body></html>"
      ]
     },
     "execution_count": 94,
     "metadata": {},
     "output_type": "execute_result"
    }
   ],
   "source": [
    "BeautifulSoup(tasks[0]['html'])"
   ]
  },
  {
   "cell_type": "code",
   "execution_count": 90,
   "metadata": {},
   "outputs": [
    {
     "data": {
      "text/plain": [
       "<!DOCTYPE html>\n",
       "<html test=\"\"><head>\n",
       "    <title tasktype=\"RadioButton\">Задание №1. Внимательно прочитайте текст задания и выберите верный ответ из списка</title>\n",
       "    <meta content=\"text/html; charset=utf-8\" http-equiv=\"Content-Type\"/>\n",
       "    <meta charset=\"utf-8\"/>\n",
       "    <link href=\"/Content/KimTemplate/kimTmp.css\" rel=\"stylesheet\"/>\n",
       "    <link href=\"/Content/KimTemplate/kimTmpCheckBox.css\" rel=\"stylesheet\"/>\n",
       "    <script src=\"/Scripts/es6-shim/es6-shim.min.js\"></script>\n",
       "    <link href=\"/Content/task-common.css\" rel=\"stylesheet\"/>\n",
       "    <script src=\"/scripts/task-common.bundle.js\"></script>\n",
       "    <script src=\"/scripts/task-helper.js\"></script>\n",
       "    <script src=\"/scripts/shuffleHelper.js\"></script>\n",
       "    <script src=\"/scripts/RadioButtonTest.js\"></script>\n",
       "    <script src=\"/scripts/fipi-tools.js?rev=2\"></script>\n",
       "    <script src=\"https://cdnjs.cloudflare.com/ajax/libs/mathjax/2.7.0/MathJax.js?config=MML_HTMLorMML\"></script>\n",
       "    <script type=\"text/x-mathjax-config\">\n",
       "        MathJax.Hub.Config({messageStyle: \"none\"});\n",
       "    </script>\n",
       "</head>\n",
       "<body class=\"custom-scroll-no inner-answers noselect\">\n",
       "    <input id=\"TaskId\" type=\"hidden\" value=\"15690\"/>\n",
       "    <div class=\"hint\" id=\"hint\" name=\"hint\">Задание №1. Внимательно прочитайте текст задания и выберите верный ответ из списка</div>\n",
       "    <div class=\"task-content-no\">\n",
       "        <div class=\"text custom-scroll-no\" id=\"text\" name=\"text\">\n",
       "              <p class=\"MsoNormal\">Какое из приведённых ниже предложений должно быть <u>первым</u> в этом тексте?<span></span></p>  \n",
       "        </div>\n",
       "        <div class=\"answers custom-scroll-no radio-items\">\n",
       "            <div class=\"answer-title\">Ответ:</div>\n",
       "                <div class=\"answer\" id=\"answer_1\" number=\"1\">  <p class=\"MsoNormal\">Взгляните на таблицу Менделеева <math> <semantics> <mo>–</mo> <annotation encoding=\"MathType-MTEF\">MathType@MTEF@5@5@+=feaaguart1ev2aqatCvAUfeBSjuyZL2yd9gzLbvyNv2CaerbuLwBLnhiov2DGi1BTfMBaeXatLxBI9gBaerbd9wDYLwzYbItLDharqqtubsr4rNCHbGeaGqipD0dg9qqqrpepC0xbbL8F4rqqrFfpeea0xe9Lq=Jc9vqaqpepm0xbba9pwe9Q8fs0=yqaqpepae9pg0FirpepeKkFr0xfr=xfr=xb9adbiqaaeaacaGaaiaabeqaamaabaabaaGcbaacbaqcLbCaqaaaaaaaaaWdbiaa=nbiaaa@3781@</annotation> </semantics> </math> вам охотно подтвердят это германий и франций, европий и америций.<span></span></p>  </div>\n",
       "                <div class=\"answer\" id=\"answer_2\" number=\"2\">  <p class=\"MsoNormal\">Географическая карта не раз служила подсказкой при выборе имени для вновь открытых химических элементов.<span></span></p>  </div>\n",
       "                <div class=\"answer\" id=\"answer_3\" number=\"3\">  <p class=\"MsoNormal\">Северная и Южная Америка составляют два самостоятельных материка и сильно отличаются по природным условиям.<span></span></p>  </div>\n",
       "                <div class=\"answer\" id=\"answer_4\" number=\"4\">  <p class=\"MsoNormal\">Большинство населения Южной Америки говорит на испанском языке.<span></span></p>  </div>\n",
       "        </div>\n",
       "    </div>\n",
       "\n",
       "</body></html>"
      ]
     },
     "execution_count": 90,
     "metadata": {},
     "output_type": "execute_result"
    }
   ],
   "source": [
    "BeautifulSoup(tasks[2]['html'])"
   ]
  }
 ],
 "metadata": {
  "kernelspec": {
   "display_name": "Python 3",
   "language": "python",
   "name": "python3"
  },
  "language_info": {
   "codemirror_mode": {
    "name": "ipython",
    "version": 3
   },
   "file_extension": ".py",
   "mimetype": "text/x-python",
   "name": "python",
   "nbconvert_exporter": "python",
   "pygments_lexer": "ipython3",
   "version": "3.8.10"
  }
 },
 "nbformat": 4,
 "nbformat_minor": 4
}
